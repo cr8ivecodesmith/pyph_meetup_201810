{
 "cells": [
  {
   "cell_type": "markdown",
   "metadata": {},
   "source": [
    "# Building Blocks of Data Analytics\n",
    "\n",
    "Python has made extracting valuable information from various data sources very easy. A testament of the dozens of open source data-manipulation-centric libraries available out there today.\n",
    "\n",
    "At the very core of these libraries are creative ways of putting together loops, conditional statements, strings, lists, dictionaries, arithmetic, etc., in order to deliver such convenience.\n",
    "\n",
    "In this talk, we will step back a bit and get back into the basics of exploring ways of putting these basic building blocks together to extract information from a dataset."
   ]
  },
  {
   "cell_type": "markdown",
   "metadata": {},
   "source": [
    "## Raw data\n",
    "\n",
    "```\n",
    "88.191.254.20 - - [22/Mar/2009:07:00:32 +0100] \"GET / HTTP/1.0\" 200 8674 \"-\" \"-\" \"-\"\n",
    "66.249.66.231 - - [22/Mar/2009:07:06:20 +0100] \"GET /popup.php?choix=-89 HTTP/1.1\" 200 1870 \"-\" \"Mozilla/5.0 (compatible; Googlebot/2.1; +http://www.google.com/bot.html)\" \"-\"\n",
    "66.249.66.231 - - [22/Mar/2009:07:11:20 +0100] \"GET /specialiste.php HTTP/1.1\" 200 10743 \"-\" \"Mozilla/5.0 (compatible; Googlebot/2.1; +http://www.google.com/bot.html)\" \"-\"\n",
    "```"
   ]
  },
  {
   "cell_type": "markdown",
   "metadata": {},
   "source": [
    "## Extracting information\n",
    "\n",
    "### Inspecting the data\n",
    "\n",
    "> What data is available to me?\n",
    "\n",
    "- Identify the headers (i.e. excel, csv)\n",
    "- Research the format (i.e. log files)\n",
    "- Research what each data is for\n"
   ]
  },
  {
   "cell_type": "markdown",
   "metadata": {},
   "source": [
    "#### A standard Nginx log file\n",
    "\n",
    "**Format:**\n",
    "\n",
    "- Remote IP address (remote_addr)\n",
    "- Remote user (remote_user)\n",
    "- Local time (time_local)\n",
    "- Requested page (http_request)\n",
    "- Status code (status)\n",
    "- Request size in bytes (request_bytes)\n",
    "- Referer - from where the request was redirected from (http_referer)\n",
    "- User agent (http_user_agent)\n",
    "- Originating IP address if coming from a proxy/load balancer (http_x_forwarded_for)\n",
    "\n",
    "**Mapping:**\n",
    "\n",
    "```\n",
    "remote_addr - remote_user [time_local] \"http_request\" status request_bytes \"http_referer\" \"http_user_agent\" \"http_x_forwarded_for\"\n",
    "```"
   ]
  },
  {
   "cell_type": "markdown",
   "metadata": {},
   "source": [
    "### Questions\n",
    "\n",
    "#### Easy\n",
    "\n",
    "- How many times did our site got visitors in total?\n",
    "- How many visitors do we have?\n",
    "- What devices were used access our site?\n",
    "- Which pages were accessed in our site?\n",
    "\n",
    "\n",
    "#### Difficult\n",
    "\n",
    "- How many unique visitors per month?\n",
    "- Top visitors per month? How many times did they visit?\n",
    "- Top devices used per month? How many time did they visit?\n",
    "- Other questions?"
   ]
  },
  {
   "cell_type": "markdown",
   "metadata": {},
   "source": [
    "## Exploration\n",
    "\n",
    "Let's figure out how we can access each individual values within a log."
   ]
  },
  {
   "cell_type": "code",
   "execution_count": null,
   "metadata": {},
   "outputs": [],
   "source": [
    "log_line = '66.249.66.231 - - [22/Mar/2009:07:06:20 +0100] \"GET /popup.php?choix=-89 HTTP/1.1\" 200 1870 \"-\" \"Mozilla/5.0 (compatible; Googlebot/2.1; +http://www.google.com/bot.html)\" \"-\"'"
   ]
  },
  {
   "cell_type": "code",
   "execution_count": null,
   "metadata": {},
   "outputs": [],
   "source": [
    "# Source: https://docs.python.org/3/library/re.html\n",
    "import re\n",
    "\n",
    "LINE_PAT = re.compile(\n",
    "    r'(?P<remote_addr>\\d{1,3}\\.\\d{1,3}\\.\\d{1,3}\\.\\d{1,3}) '\n",
    "    r'\\- '\n",
    "    r'(?P<remote_user>.+) '\n",
    "    r'\\[(?P<time_local>.+)\\] '\n",
    "    r'\"(?P<http_request>.+)\" '\n",
    "    r'(?P<status>\\d{3}) '\n",
    "    r'(?P<request_bytes>[\\d\\-]{1,}) '\n",
    "    r'\"(?P<http_referer>.+)\" '\n",
    "    r'\"(?P<http_user_agent>.+)\" '\n",
    "    r'\"(?P<http_x_forwarded_for>.+)\"'\n",
    ")"
   ]
  },
  {
   "cell_type": "code",
   "execution_count": null,
   "metadata": {},
   "outputs": [],
   "source": [
    "matched = LINE_PAT.match(log_line)"
   ]
  },
  {
   "cell_type": "code",
   "execution_count": null,
   "metadata": {},
   "outputs": [],
   "source": [
    "matched.groupdict()"
   ]
  },
  {
   "cell_type": "code",
   "execution_count": null,
   "metadata": {},
   "outputs": [],
   "source": [
    "matched.groupdict().get('remote_addr')"
   ]
  },
  {
   "cell_type": "markdown",
   "metadata": {},
   "source": [
    "## Normalizing data\n",
    "\n",
    "Let's now convert each value into it's proper data type."
   ]
  },
  {
   "cell_type": "code",
   "execution_count": null,
   "metadata": {},
   "outputs": [],
   "source": [
    "data = matched.groupdict()"
   ]
  },
  {
   "cell_type": "code",
   "execution_count": null,
   "metadata": {},
   "outputs": [],
   "source": [
    "from datetime import datetime\n",
    "\n",
    "for key, val in data.items():\n",
    "    if (key == 'status' or key == 'request_bytes') and val.isdigit():\n",
    "        data[key] = int(val)\n",
    "    elif key == 'time_local':\n",
    "        data[key] = datetime.strptime(val, '%d/%b/%Y:%H:%M:%S %z')\n",
    "    if val == '-':\n",
    "        data[key] = None"
   ]
  },
  {
   "cell_type": "code",
   "execution_count": null,
   "metadata": {},
   "outputs": [],
   "source": [
    "data"
   ]
  },
  {
   "cell_type": "markdown",
   "metadata": {},
   "source": [
    "## Creating a strategy\n",
    "\n",
    "What's the best way to group the data to answer the questions we have?\n",
    "\n",
    "Do we need to create different groupings of our data?"
   ]
  },
  {
   "cell_type": "markdown",
   "metadata": {},
   "source": [
    "### Base data structure\n",
    "\n",
    "Regardless of our further groupings, we will always start with the base form:\n",
    "\n",
    "```\n",
    "[\n",
    "    {\n",
    "        'header': 'value',\n",
    "        ...\n",
    "    },\n",
    "    {\n",
    "        'header': 'value',\n",
    "        ...\n",
    "    },\n",
    "    ...\n",
    "]\n",
    "```"
   ]
  },
  {
   "cell_type": "code",
   "execution_count": null,
   "metadata": {},
   "outputs": [],
   "source": [
    "raw_logs = []\n",
    "\n",
    "with open('access.log') as fh:\n",
    "    for line in fh:\n",
    "        line = line.strip()\n",
    "        m = LINE_PAT.match(line)\n",
    "        log_data = m.groupdict() if m else None\n",
    "        if log_data:\n",
    "            for key, val in log_data.items():\n",
    "                if (key == 'status' or key == 'request_bytes') and val.isdigit():\n",
    "                    log_data[key] = int(val)\n",
    "                elif key == 'time_local':\n",
    "                    log_data[key] = datetime.strptime(val, '%d/%b/%Y:%H:%M:%S %z')\n",
    "                if val == '-':\n",
    "                    log_data[key] = None\n",
    "            raw_logs.append(log_data)"
   ]
  },
  {
   "cell_type": "code",
   "execution_count": null,
   "metadata": {},
   "outputs": [],
   "source": [
    "raw_logs[2:4]"
   ]
  },
  {
   "cell_type": "markdown",
   "metadata": {},
   "source": [
    "## Getting answers\n",
    "\n",
    "Let's attempt to traverse our data structure to answer our questions."
   ]
  },
  {
   "cell_type": "markdown",
   "metadata": {},
   "source": [
    "### How many times did our site got visitors in total?"
   ]
  },
  {
   "cell_type": "code",
   "execution_count": null,
   "metadata": {},
   "outputs": [],
   "source": []
  },
  {
   "cell_type": "markdown",
   "metadata": {},
   "source": [
    "### How many visitors do we have?"
   ]
  },
  {
   "cell_type": "code",
   "execution_count": null,
   "metadata": {},
   "outputs": [],
   "source": []
  },
  {
   "cell_type": "markdown",
   "metadata": {},
   "source": [
    "### What devices were used access our site?"
   ]
  },
  {
   "cell_type": "code",
   "execution_count": null,
   "metadata": {},
   "outputs": [],
   "source": []
  },
  {
   "cell_type": "markdown",
   "metadata": {},
   "source": [
    "### Which pages were accessed in our site?"
   ]
  },
  {
   "cell_type": "code",
   "execution_count": null,
   "metadata": {},
   "outputs": [],
   "source": []
  },
  {
   "cell_type": "markdown",
   "metadata": {},
   "source": [
    "### How many unique visitors per month?\n",
    "\n",
    "- Group by month\n",
    "- Count all visitors for the month\n",
    "- Count the unique visitors only\n",
    "\n",
    "```\n",
    "{\n",
    "    'month': {\n",
    "        'ip': [\n",
    "            occurence,\n",
    "            occurence,\n",
    "            ...\n",
    "        ],\n",
    "        'ip': [\n",
    "            occurence,\n",
    "            occurence,\n",
    "            ...\n",
    "        ],\n",
    "        ...\n",
    "    },\n",
    "    'month': {\n",
    "        'ip': [\n",
    "            occurence,\n",
    "            occurence,\n",
    "            ...\n",
    "        ],\n",
    "        'ip': [\n",
    "            occurence,\n",
    "            occurence,\n",
    "            ...\n",
    "        ],\n",
    "        ...\n",
    "    },\n",
    "    ...\n",
    "}\n",
    "```"
   ]
  },
  {
   "cell_type": "code",
   "execution_count": null,
   "metadata": {},
   "outputs": [],
   "source": [
    "ds_log = {}\n",
    "for log in raw_logs:\n",
    "    date = log.get('time_local')\n",
    "    ip = log.get('remote_addr')\n",
    "    if date.month not in ds_log:\n",
    "        ds_log[date.month] = {}\n",
    "\n",
    "    if ip not in ds_log[date.month]:\n",
    "        ds_log[date.month][ip] = [log]\n",
    "\n",
    "    ds_log[date.month][ip].append(log)"
   ]
  },
  {
   "cell_type": "code",
   "execution_count": null,
   "metadata": {},
   "outputs": [],
   "source": [
    "ds_log.keys()"
   ]
  },
  {
   "cell_type": "code",
   "execution_count": null,
   "metadata": {},
   "outputs": [],
   "source": [
    "len(ds_log[3].keys())"
   ]
  },
  {
   "cell_type": "markdown",
   "metadata": {},
   "source": [
    "### Top visitors per month? How many times did they visit?\n",
    "\n",
    "- Group by month\n",
    "- List all visitors for the month\n",
    "- Group by unique visitors and retain the number of occurences they appear\n",
    "- Sort by the visitor with the most number of visits"
   ]
  },
  {
   "cell_type": "code",
   "execution_count": null,
   "metadata": {},
   "outputs": [],
   "source": []
  },
  {
   "cell_type": "markdown",
   "metadata": {},
   "source": [
    "## Over to you\n",
    "\n",
    "1. Using the data structure we have created, how can you navigate it so that you can answer the other questions?\n",
    "\n",
    "2. Using the ideas here, can you improve on the data structure so you can navigate it better?\n",
    "\n",
    "3. What other useful information can you extract from the data?\n",
    "\n",
    "4. What actions can you take given these information?\n",
    "\n",
    "5. Put things together to create a proper program and write the results in a file (or csv file)."
   ]
  },
  {
   "cell_type": "markdown",
   "metadata": {},
   "source": [
    "## More practice!\n",
    "\n",
    "Can you use what you've learned here on other data sets?\n",
    "\n",
    "Find other data sets and use what you've learned here to extract information from them.\n",
    "\n",
    "https://data.gov.ph/"
   ]
  }
 ],
 "metadata": {
  "kernelspec": {
   "display_name": "Python 3",
   "language": "python",
   "name": "python3"
  },
  "language_info": {
   "codemirror_mode": {
    "name": "ipython",
    "version": 3
   },
   "file_extension": ".py",
   "mimetype": "text/x-python",
   "name": "python",
   "nbconvert_exporter": "python",
   "pygments_lexer": "ipython3",
   "version": "3.6.6"
  }
 },
 "nbformat": 4,
 "nbformat_minor": 2
}
